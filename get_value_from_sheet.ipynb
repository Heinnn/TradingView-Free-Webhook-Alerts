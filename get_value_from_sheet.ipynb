{
 "cells": [
  {
   "cell_type": "code",
   "execution_count": 7,
   "metadata": {},
   "outputs": [
    {
     "name": "stdout",
     "output_type": "stream",
     "text": [
      "SHORT\n"
     ]
    }
   ],
   "source": [
    "import gspread\n",
    "\n",
    "# Define the global variable\n",
    "trade_direction = None\n",
    "\n",
    "def get_trade_direction(sheet_url, cell):\n",
    "    global trade_direction  # Declare the variable as global to modify it within the function\n",
    "\n",
    "    # Authenticate and open the Google Sheet\n",
    "    gc = gspread.service_account(filename='sheetapi-437814-73f30fd1a6f2.json')  # Replace with the path to your JSON key\n",
    "    sheet = gc.open_by_url(sheet_url)\n",
    "    \n",
    "    # Select the first worksheet\n",
    "    worksheet = sheet.get_worksheet(0)\n",
    "\n",
    "    # Get the value from the specified cell\n",
    "    trade_direction = worksheet.acell(cell).value\n",
    "\n",
    "# Example usage\n",
    "sheet_url = \"https://docs.google.com/spreadsheets/d/1nxkOaLEdKM0IKk7gAWWnGJiH-2nuaFpBqgq2duEnpZA/\"\n",
    "cell = \"A1\"\n",
    "get_trade_direction(sheet_url, cell)\n",
    "print(trade_direction)\n"
   ]
  },
  {
   "cell_type": "code",
   "execution_count": null,
   "metadata": {},
   "outputs": [],
   "source": [
    "import MetaTrader5 as mt5\n",
    "import time\n",
    "import logging\n",
    "\n",
    "# Configure logging\n",
    "logging.basicConfig(level=logging.INFO, format='%(asctime)s - %(levelname)s - %(message)s')\n",
    "\n",
    "def login(terminal_path, user_id, password, server, max_retry=3):\n",
    "    \"\"\"Logs into MetaTrader 5 terminal with retries.\"\"\"\n",
    "    for attempt in range(1, max_retry + 1):\n",
    "        if mt5.initialize(path=terminal_path, login=int(user_id), password=password, server=server):\n",
    "            logging.info(\"Login successful.\")\n",
    "            return True\n",
    "        else:\n",
    "            logging.warning(f\"Login attempt {attempt}/{max_retry} failed. Retrying in 60 seconds...\")\n",
    "            time.sleep(60)\n",
    "    logging.error(\"Maximum login attempts reached. Unable to connect.\")\n",
    "    return False\n",
    "\n",
    "def get_account_info():\n",
    "    \"\"\"Retrieves and logs account information from MetaTrader 5.\"\"\"\n",
    "    account_info = mt5.account_info()\n",
    "    if account_info is None:\n",
    "        logging.error(\"Failed to retrieve account info.\")\n",
    "        return None\n",
    "    account_info_dict = account_info._asdict()\n",
    "    for prop, value in account_info_dict.items():\n",
    "        logging.info(f\"{prop} = {value}\")\n",
    "    return account_info_dict\n",
    "\n",
    "def is_algo_trading_enabled():\n",
    "    \"\"\"Checks if algorithmic trading is enabled and logs the status.\"\"\"\n",
    "    terminal_info = mt5.terminal_info()\n",
    "    if terminal_info is None:\n",
    "        logging.error(\"Failed to retrieve terminal info.\")\n",
    "        return False\n",
    "    algo_trading_allowed = terminal_info.trade_allowed\n",
    "    if algo_trading_allowed:\n",
    "        logging.info(\"Algorithmic trading is allowed.\")\n",
    "    else:\n",
    "        logging.info(\"Algorithmic trading is NOT allowed.\")\n",
    "    return algo_trading_allowed\n",
    "\n",
    "# Example usage\n",
    "if __name__ == \"__main__\":\n",
    "    terminal_path = \"path_to_terminal.exe\"\n",
    "    user_id = \"123456\"\n",
    "    password = \"password\"\n",
    "    server = \"broker_server\"\n",
    "\n",
    "    # Login\n",
    "    if login(terminal_path, user_id, password, server):\n",
    "        # Get account info\n",
    "        get_account_info()\n",
    "        \n",
    "        # Check if algo trading is enabled\n",
    "        is_algo_trading_enabled()\n",
    "\n",
    "    # Shutdown MetaTrader 5\n",
    "    mt5.shutdown()\n"
   ]
  }
 ],
 "metadata": {
  "kernelspec": {
   "display_name": "quant",
   "language": "python",
   "name": "python3"
  },
  "language_info": {
   "codemirror_mode": {
    "name": "ipython",
    "version": 3
   },
   "file_extension": ".py",
   "mimetype": "text/x-python",
   "name": "python",
   "nbconvert_exporter": "python",
   "pygments_lexer": "ipython3",
   "version": "3.12.0"
  }
 },
 "nbformat": 4,
 "nbformat_minor": 2
}
